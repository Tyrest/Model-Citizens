{
 "cells": [
  {
   "cell_type": "code",
   "execution_count": 25,
   "metadata": {},
   "outputs": [],
   "source": [
    "import numpy as np\n",
    "\n",
    "from load_nlvr import load_nlvr\n",
    "\n",
    "\n",
    "# all_image_embeddings = np.concatenate(all_image_embeddings, axis=0)\n",
    "# np.savetxt(\"image_embeddings.txt\", all_image_embeddings)\n",
    "# all_text_embeddings = np.concatenate(all_text_embeddings, axis=0)\n",
    "# np.savetxt(\"text_embeddings.txt\", all_text_embeddings)\n",
    "# cosine_similarities = np.array(cosine_similarities)\n",
    "# np.savetxt(\"cosine_similarities.txt\", cosine_similarities)\n",
    "# attention_entropies = np.concatenate(all_attention_entropies, axis=0)\n",
    "# np.savetxt(\"attention_entropies.txt\", attention_entropies)"
   ]
  },
  {
   "cell_type": "code",
   "execution_count": 26,
   "metadata": {},
   "outputs": [],
   "source": [
    "outputs = np.loadtxt(\"outputs.txt\")\n",
    "all_image_embeddings = np.loadtxt(\"image_embeddings.txt\")\n",
    "all_text_embeddings = np.loadtxt(\"text_embeddings.txt\")\n",
    "cosine_similarities = np.loadtxt(\"cosine_similarities.txt\")\n",
    "attention_entropies = np.loadtxt(\"attention_entropies.txt\")\n",
    "hidden_states = np.loadtxt(\"hidden_states.txt\")\n",
    "\n",
    "train_df, val_df, test_df = load_nlvr()"
   ]
  },
  {
   "cell_type": "code",
   "execution_count": 27,
   "metadata": {},
   "outputs": [
    {
     "name": "stdout",
     "output_type": "stream",
     "text": [
      "Combined dataframe shape: (6982, 8)\n"
     ]
    },
    {
     "data": {
      "text/html": [
       "<div>\n",
       "<style scoped>\n",
       "    .dataframe tbody tr th:only-of-type {\n",
       "        vertical-align: middle;\n",
       "    }\n",
       "\n",
       "    .dataframe tbody tr th {\n",
       "        vertical-align: top;\n",
       "    }\n",
       "\n",
       "    .dataframe thead th {\n",
       "        text-align: right;\n",
       "    }\n",
       "</style>\n",
       "<table border=\"1\" class=\"dataframe\">\n",
       "  <thead>\n",
       "    <tr style=\"text-align: right;\">\n",
       "      <th></th>\n",
       "      <th>label</th>\n",
       "      <th>sentence</th>\n",
       "      <th>identifier</th>\n",
       "      <th>left</th>\n",
       "      <th>right</th>\n",
       "      <th>outputs</th>\n",
       "      <th>cosine_similarity</th>\n",
       "      <th>attention_entropy</th>\n",
       "    </tr>\n",
       "  </thead>\n",
       "  <tbody>\n",
       "    <tr>\n",
       "      <th>0</th>\n",
       "      <td>False</td>\n",
       "      <td>The right image shows a curving walkway of dar...</td>\n",
       "      <td>dev-850-0-0</td>\n",
       "      <td>data/dev/dev-850-0-img0.png</td>\n",
       "      <td>data/dev/dev-850-0-img1.png</td>\n",
       "      <td>0.0</td>\n",
       "      <td>0.417969</td>\n",
       "      <td>1.703125</td>\n",
       "    </tr>\n",
       "    <tr>\n",
       "      <th>1</th>\n",
       "      <td>True</td>\n",
       "      <td>The right image shows a curving walkway of dar...</td>\n",
       "      <td>dev-850-2-0</td>\n",
       "      <td>data/dev/dev-850-2-img0.png</td>\n",
       "      <td>data/dev/dev-850-2-img1.png</td>\n",
       "      <td>1.0</td>\n",
       "      <td>0.419922</td>\n",
       "      <td>1.757812</td>\n",
       "    </tr>\n",
       "    <tr>\n",
       "      <th>2</th>\n",
       "      <td>False</td>\n",
       "      <td>The right image shows a curving walkway of dar...</td>\n",
       "      <td>dev-850-3-0</td>\n",
       "      <td>data/dev/dev-850-3-img0.png</td>\n",
       "      <td>data/dev/dev-850-3-img1.png</td>\n",
       "      <td>0.0</td>\n",
       "      <td>0.437500</td>\n",
       "      <td>1.570312</td>\n",
       "    </tr>\n",
       "    <tr>\n",
       "      <th>3</th>\n",
       "      <td>True</td>\n",
       "      <td>The right image shows a curving walkway of dar...</td>\n",
       "      <td>dev-850-1-0</td>\n",
       "      <td>data/dev/dev-850-1-img0.png</td>\n",
       "      <td>data/dev/dev-850-1-img1.png</td>\n",
       "      <td>1.0</td>\n",
       "      <td>0.419922</td>\n",
       "      <td>1.664062</td>\n",
       "    </tr>\n",
       "    <tr>\n",
       "      <th>4</th>\n",
       "      <td>True</td>\n",
       "      <td>IN at least one image there are at least four ...</td>\n",
       "      <td>dev-850-1-1</td>\n",
       "      <td>data/dev/dev-850-1-img0.png</td>\n",
       "      <td>data/dev/dev-850-1-img1.png</td>\n",
       "      <td>1.0</td>\n",
       "      <td>0.419922</td>\n",
       "      <td>1.656250</td>\n",
       "    </tr>\n",
       "  </tbody>\n",
       "</table>\n",
       "</div>"
      ],
      "text/plain": [
       "   label                                           sentence   identifier  \\\n",
       "0  False  The right image shows a curving walkway of dar...  dev-850-0-0   \n",
       "1   True  The right image shows a curving walkway of dar...  dev-850-2-0   \n",
       "2  False  The right image shows a curving walkway of dar...  dev-850-3-0   \n",
       "3   True  The right image shows a curving walkway of dar...  dev-850-1-0   \n",
       "4   True  IN at least one image there are at least four ...  dev-850-1-1   \n",
       "\n",
       "                          left                        right  outputs  \\\n",
       "0  data/dev/dev-850-0-img0.png  data/dev/dev-850-0-img1.png      0.0   \n",
       "1  data/dev/dev-850-2-img0.png  data/dev/dev-850-2-img1.png      1.0   \n",
       "2  data/dev/dev-850-3-img0.png  data/dev/dev-850-3-img1.png      0.0   \n",
       "3  data/dev/dev-850-1-img0.png  data/dev/dev-850-1-img1.png      1.0   \n",
       "4  data/dev/dev-850-1-img0.png  data/dev/dev-850-1-img1.png      1.0   \n",
       "\n",
       "   cosine_similarity  attention_entropy  \n",
       "0           0.417969           1.703125  \n",
       "1           0.419922           1.757812  \n",
       "2           0.437500           1.570312  \n",
       "3           0.419922           1.664062  \n",
       "4           0.419922           1.656250  "
      ]
     },
     "execution_count": 27,
     "metadata": {},
     "output_type": "execute_result"
    }
   ],
   "source": [
    "import pandas as pd\n",
    "\n",
    "# Create a copy of the validation dataframe\n",
    "combined_df = val_df.copy()\n",
    "\n",
    "# Make sure the dimensions match\n",
    "n_samples = len(val_df)\n",
    "assert outputs.shape[0] == n_samples, \"Outputs count doesn't match dataframe length\"\n",
    "assert all_image_embeddings.shape[0] == n_samples, \"Image embeddings count doesn't match dataframe length\"\n",
    "assert all_text_embeddings.shape[0] == n_samples, \"Text embeddings count doesn't match dataframe length\"\n",
    "assert cosine_similarities.shape[0] == n_samples, \"Cosine similarities count doesn't match dataframe length\"\n",
    "assert attention_entropies.shape[0] == n_samples, \"Attention entropies count doesn't match dataframe length\"\n",
    "\n",
    "# Add the outputs, image embeddings, and text embeddings to the dataframe\n",
    "combined_df['outputs'] = outputs\n",
    "\n",
    "# Add cosine similarity and attention entropy columns\n",
    "combined_df['cosine_similarity'] = cosine_similarities\n",
    "combined_df['attention_entropy'] = attention_entropies\n",
    "\n",
    "\n",
    "# Display the first few rows\n",
    "print(f\"Combined dataframe shape: {combined_df.shape}\")\n",
    "combined_df.head()"
   ]
  },
  {
   "cell_type": "code",
   "execution_count": 28,
   "metadata": {},
   "outputs": [
    {
     "name": "stdout",
     "output_type": "stream",
     "text": [
      "Mean cosine similarity: 0.42238971641363504\n",
      "Mean attention entropy: 1.7003858135204812\n"
     ]
    }
   ],
   "source": [
    "# mean cosine similarity\n",
    "mean_cosine_similarity = combined_df['cosine_similarity'].mean()\n",
    "print(f\"Mean cosine similarity: {mean_cosine_similarity}\")\n",
    "# mean attention entropy\n",
    "mean_attention_entropy = combined_df['attention_entropy'].mean()\n",
    "print(f\"Mean attention entropy: {mean_attention_entropy}\")"
   ]
  },
  {
   "cell_type": "code",
   "execution_count": 29,
   "metadata": {},
   "outputs": [
    {
     "name": "stdout",
     "output_type": "stream",
     "text": [
      "Concatenated embeddings shape: (6982, 4096)\n"
     ]
    }
   ],
   "source": [
    "# concat image and text embeddings\n",
    "concatenated_embeddings = np.concatenate((all_image_embeddings, all_text_embeddings), axis=1)\n",
    "print(f\"Concatenated embeddings shape: {concatenated_embeddings.shape}\")"
   ]
  },
  {
   "cell_type": "code",
   "execution_count": 30,
   "metadata": {},
   "outputs": [
    {
     "name": "stdout",
     "output_type": "stream",
     "text": [
      "Silhouette score: 0.10363964381004331\n"
     ]
    }
   ],
   "source": [
    "from sklearn.metrics import silhouette_score\n",
    "\n",
    "# Calculate silhouette score\n",
    "silhouette_avg = silhouette_score(hidden_states, combined_df['label'])\n",
    "print(f\"Silhouette score: {silhouette_avg}\")"
   ]
  },
  {
   "cell_type": "code",
   "execution_count": 31,
   "metadata": {},
   "outputs": [],
   "source": [
    "from sklearn.metrics import accuracy_score\n",
    "\n",
    "# map 0 to False and 1 to True for outputs\n",
    "combined_df['outputs'] = combined_df['outputs'].map({0: 'False', 1: 'True'})\n",
    "\n",
    "# Calculate accuracy\n",
    "accuracy = accuracy_score(combined_df['label'], combined_df['outputs'])"
   ]
  },
  {
   "cell_type": "code",
   "execution_count": 32,
   "metadata": {},
   "outputs": [
    {
     "name": "stdout",
     "output_type": "stream",
     "text": [
      "Accuracy: 0.7832999140647379\n"
     ]
    }
   ],
   "source": [
    "print(f\"Accuracy: {accuracy}\")"
   ]
  }
 ],
 "metadata": {
  "kernelspec": {
   "display_name": ".venv",
   "language": "python",
   "name": "python3"
  },
  "language_info": {
   "codemirror_mode": {
    "name": "ipython",
    "version": 3
   },
   "file_extension": ".py",
   "mimetype": "text/x-python",
   "name": "python",
   "nbconvert_exporter": "python",
   "pygments_lexer": "ipython3",
   "version": "3.11.11"
  }
 },
 "nbformat": 4,
 "nbformat_minor": 2
}
