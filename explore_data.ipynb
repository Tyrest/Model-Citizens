{
 "cells": [
  {
   "cell_type": "code",
   "execution_count": 1,
   "metadata": {},
   "outputs": [],
   "source": [
    "from IPython.display import HTML, display\n",
    "\n",
    "from load_nlvr import load_nlvr"
   ]
  },
  {
   "cell_type": "code",
   "execution_count": 2,
   "metadata": {},
   "outputs": [],
   "source": [
    "train_df, dev_df, test_df = load_nlvr()"
   ]
  },
  {
   "cell_type": "code",
   "execution_count": null,
   "metadata": {},
   "outputs": [
    {
     "name": "stdout",
     "output_type": "stream",
     "text": [
      "--------------------------------------------------------------------------------\n",
      "Sentence: The right image shows a curving walkway of dark glass circles embedded in dirt and flanked by foliage.\n",
      "Label: False\n"
     ]
    },
    {
     "data": {
      "text/html": [
       "<img src='data/dev/dev-850-0-img0.png' width=256 style='margin-right:10px;'><img src='data/dev/dev-850-0-img1.png' width=256>"
      ],
      "text/plain": [
       "<IPython.core.display.HTML object>"
      ]
     },
     "metadata": {},
     "output_type": "display_data"
    },
    {
     "name": "stdout",
     "output_type": "stream",
     "text": [
      "--------------------------------------------------------------------------------\n",
      "Sentence: The right image shows a curving walkway of dark glass circles embedded in dirt and flanked by foliage.\n",
      "Label: True\n"
     ]
    },
    {
     "data": {
      "text/html": [
       "<img src='data/dev/dev-850-2-img0.png' width=256 style='margin-right:10px;'><img src='data/dev/dev-850-2-img1.png' width=256>"
      ],
      "text/plain": [
       "<IPython.core.display.HTML object>"
      ]
     },
     "metadata": {},
     "output_type": "display_data"
    },
    {
     "name": "stdout",
     "output_type": "stream",
     "text": [
      "--------------------------------------------------------------------------------\n",
      "Sentence: The right image shows a curving walkway of dark glass circles embedded in dirt and flanked by foliage.\n",
      "Label: False\n"
     ]
    },
    {
     "data": {
      "text/html": [
       "<img src='data/dev/dev-850-3-img0.png' width=256 style='margin-right:10px;'><img src='data/dev/dev-850-3-img1.png' width=256>"
      ],
      "text/plain": [
       "<IPython.core.display.HTML object>"
      ]
     },
     "metadata": {},
     "output_type": "display_data"
    },
    {
     "name": "stdout",
     "output_type": "stream",
     "text": [
      "--------------------------------------------------------------------------------\n",
      "Sentence: The right image shows a curving walkway of dark glass circles embedded in dirt and flanked by foliage.\n",
      "Label: True\n"
     ]
    },
    {
     "data": {
      "text/html": [
       "<img src='data/dev/dev-850-1-img0.png' width=256 style='margin-right:10px;'><img src='data/dev/dev-850-1-img1.png' width=256>"
      ],
      "text/plain": [
       "<IPython.core.display.HTML object>"
      ]
     },
     "metadata": {},
     "output_type": "display_data"
    },
    {
     "name": "stdout",
     "output_type": "stream",
     "text": [
      "--------------------------------------------------------------------------------\n",
      "Sentence: IN at least one image there are at least four bottle rows that together make a walking path.\n",
      "Label: True\n"
     ]
    },
    {
     "data": {
      "text/html": [
       "<img src='data/dev/dev-850-1-img0.png' width=256 style='margin-right:10px;'><img src='data/dev/dev-850-1-img1.png' width=256>"
      ],
      "text/plain": [
       "<IPython.core.display.HTML object>"
      ]
     },
     "metadata": {},
     "output_type": "display_data"
    },
    {
     "name": "stdout",
     "output_type": "stream",
     "text": [
      "--------------------------------------------------------------------------------\n"
     ]
    }
   ],
   "source": [
    "print(\"-\" * 80)\n",
    "for _, row in dev_df.head(5).iterrows():\n",
    "    print(\"Sentence:\", row[\"sentence\"])\n",
    "    print(\"Label:\", row[\"label\"])\n",
    "    display(\n",
    "        HTML(\n",
    "            f\"<img src='{row['left']}' width=256 style='margin-right:10px;'><img src='{row['right']}' width=256>\"\n",
    "        )\n",
    "    )\n",
    "    print(\"-\" * 80)"
   ]
  },
  {
   "cell_type": "code",
   "execution_count": 4,
   "metadata": {},
   "outputs": [
    {
     "name": "stdout",
     "output_type": "stream",
     "text": [
      "--------------------------------------------------------------------------------\n",
      "Sentence: An image shows one leather pencil case, displayed open with writing implements tucked inside.\n",
      "Label: False\n"
     ]
    },
    {
     "data": {
      "text/html": [
       "<img src='data/images/train/11/train-10171-0-img0.png' width=256 style='margin-right:10px;'><img src='data/images/train/11/train-10171-0-img1.png' width=256>"
      ],
      "text/plain": [
       "<IPython.core.display.HTML object>"
      ]
     },
     "metadata": {},
     "output_type": "display_data"
    },
    {
     "name": "stdout",
     "output_type": "stream",
     "text": [
      "--------------------------------------------------------------------------------\n",
      "Sentence: There are exactly two flutes.\n",
      "Label: True\n"
     ]
    },
    {
     "data": {
      "text/html": [
       "<img src='data/images/train/55/train-6623-1-img0.png' width=256 style='margin-right:10px;'><img src='data/images/train/55/train-6623-1-img1.png' width=256>"
      ],
      "text/plain": [
       "<IPython.core.display.HTML object>"
      ]
     },
     "metadata": {},
     "output_type": "display_data"
    },
    {
     "name": "stdout",
     "output_type": "stream",
     "text": [
      "--------------------------------------------------------------------------------\n",
      "Sentence: Power lines can be seen above the train in the image on the right.\n",
      "Label: True\n"
     ]
    },
    {
     "data": {
      "text/html": [
       "<img src='data/images/train/75/train-4933-2-img0.png' width=256 style='margin-right:10px;'><img src='data/images/train/75/train-4933-2-img1.png' width=256>"
      ],
      "text/plain": [
       "<IPython.core.display.HTML object>"
      ]
     },
     "metadata": {},
     "output_type": "display_data"
    },
    {
     "name": "stdout",
     "output_type": "stream",
     "text": [
      "--------------------------------------------------------------------------------\n",
      "Sentence: There is one seal with a plain white background.\n",
      "Label: True\n"
     ]
    },
    {
     "data": {
      "text/html": [
       "<img src='data/images/train/15/train-4100-0-img0.png' width=256 style='margin-right:10px;'><img src='data/images/train/15/train-4100-0-img1.png' width=256>"
      ],
      "text/plain": [
       "<IPython.core.display.HTML object>"
      ]
     },
     "metadata": {},
     "output_type": "display_data"
    },
    {
     "name": "stdout",
     "output_type": "stream",
     "text": [
      "--------------------------------------------------------------------------------\n",
      "Sentence: A red chimney rises from a yellow building with a thatched roof.\n",
      "Label: True\n"
     ]
    },
    {
     "data": {
      "text/html": [
       "<img src='data/images/train/77/train-11232-3-img0.png' width=256 style='margin-right:10px;'><img src='data/images/train/77/train-11232-3-img1.png' width=256>"
      ],
      "text/plain": [
       "<IPython.core.display.HTML object>"
      ]
     },
     "metadata": {},
     "output_type": "display_data"
    },
    {
     "name": "stdout",
     "output_type": "stream",
     "text": [
      "--------------------------------------------------------------------------------\n"
     ]
    }
   ],
   "source": [
    "print(\"-\" * 80)\n",
    "for _, row in train_df.head(5).iterrows():\n",
    "    print(\"Sentence:\", row[\"sentence\"])\n",
    "    print(\"Label:\", row[\"label\"])\n",
    "    display(\n",
    "        HTML(\n",
    "            f\"<img src='{row['left']}' width=256 style='margin-right:10px;'><img src='{row['right']}' width=256>\"\n",
    "        )\n",
    "    )\n",
    "    print(\"-\" * 80)"
   ]
  }
 ],
 "metadata": {
  "kernelspec": {
   "display_name": ".venv",
   "language": "python",
   "name": "python3"
  },
  "language_info": {
   "codemirror_mode": {
    "name": "ipython",
    "version": 3
   },
   "file_extension": ".py",
   "mimetype": "text/x-python",
   "name": "python",
   "nbconvert_exporter": "python",
   "pygments_lexer": "ipython3",
   "version": "3.11.10"
  }
 },
 "nbformat": 4,
 "nbformat_minor": 2
}
